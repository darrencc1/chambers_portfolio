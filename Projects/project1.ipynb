{
  "cells": [
    {
      "cell_type": "raw",
      "metadata": {},
      "source": [
        "---\n",
        "title: \"Client Report - [Usage of Names over time]\"\n",
        "subtitle: \"Course DS 250\"\n",
        "author: \"[Darren Chambers]\"\n",
        "format:\n",
        "  html:\n",
        "    self-contained: true\n",
        "    page-layout: full\n",
        "    title-block-banner: true\n",
        "    toc: true\n",
        "    toc-depth: 3\n",
        "    toc-location: body\n",
        "    number-sections: false\n",
        "    html-math-method: katex\n",
        "    code-fold: true\n",
        "    code-summary: \"Show the code\"\n",
        "    code-overflow: wrap\n",
        "    code-copy: hover\n",
        "    code-tools:\n",
        "        source: false\n",
        "        toggle: true\n",
        "        caption: See code\n",
        "execute: \n",
        "  warning: false\n",
        "    \n",
        "---"
      ],
      "id": "d9692645"
    },
    {
      "cell_type": "code",
      "metadata": {},
      "source": [
        "#| label: libraries\n",
        "#| include: false\n",
        "import pandas as pd\n",
        "import numpy as np\n",
        "import plotly.express as px"
      ],
      "id": "libraries",
      "execution_count": null,
      "outputs": []
    },
    {
      "cell_type": "markdown",
      "metadata": {},
      "source": [
        "## Elevator pitch\n",
        "\n",
        "_With this data we can see the change in popularity of names over time. An example of this is with the names Mary, Martha, Paul and Peter, they lost popularity by an average of 31.25% per year from 1957 to the year 2000.  _\n"
      ],
      "id": "6297488a"
    },
    {
      "cell_type": "code",
      "metadata": {},
      "source": [
        "#| label: project data\n",
        "#| code-summary: Read and format project data\n",
        "# Include and execute your code here\n",
        "df = pd.read_csv(\"https://github.com/byuidatascience/data4names/raw/master/data-raw/names_year/names_year.csv\")\n"
      ],
      "id": "project-data",
      "execution_count": null,
      "outputs": []
    },
    {
      "cell_type": "markdown",
      "metadata": {},
      "source": [
        "## QUESTION|TASK 1\n",
        "\n",
        "__How does your name at your birth year compare to its use historically?__\n",
        "\n",
        "_In the year 1947 there were only 5 children named Darren. The name started to gain popularity in 1958 with 385 kids given the name and peaking at 5931 children given this name in 1965. I was born in the year 1996 where the popularity of the name Darren had declined by 81% from 1947.        _\n"
      ],
      "id": "124faced"
    },
    {
      "cell_type": "code",
      "metadata": {},
      "source": [
        "#| label: Q1\n",
        "#| code-summary: Read and format data\n",
        "# Include and execute your code here\n",
        " #and \"va != 0\"])\n",
        "# df.query(\"year <= 2000\") \n",
        "\n",
        "# year with lowest babies names Darren\n",
        "# pd.unique(df.query(\"name == 'Darren' \").year).min()\n",
        "# pd.unique(df.query(\"name == 'Darren' \").year).max()\n",
        "\n",
        "# Gives the size, so rows times columns so with year, how many years you have, name: how many times the specified name occurs. \n",
        "# pd.unique(df.query(\"name == 'Darren' \").year).size\n",
        "df.query(\"name == 'Darren'\").filter([\"name\", \"year\", \"Total\"]).query(\"year > 1990 and year < 2000\")"
      ],
      "id": "Q1",
      "execution_count": null,
      "outputs": []
    },
    {
      "cell_type": "markdown",
      "metadata": {},
      "source": [
        "_The green line indicates when I was born.  _\n"
      ],
      "id": "9681fa2d"
    },
    {
      "cell_type": "code",
      "metadata": {},
      "source": [
        "#| label: Q1 chart\n",
        "#| code-summary: plot example\n",
        "#| fig-cap: My useless chart\n",
        "#| fig-align: center\n",
        "# Include and execute your code here\n",
        "darren_df = df[df['name'] == 'Darren']\n",
        "chart = px.bar(darren_df.head(200),\n",
        "    x=\"year\", \n",
        "    y=\"Total\",\n",
        "    title = \"Usage of the name Darren\",\n",
        "    labels = {\"year\":\"Year\"}\n",
        "\n",
        ")\n",
        "highlight_year = 1996\n",
        "\n",
        "# Add a vertical line\n",
        "chart.add_shape(\n",
        "    type=\"line\",\n",
        "    x0=highlight_year,\n",
        "    y0=darren_df['Total'].min(),\n",
        "    x1=highlight_year,\n",
        "    y1=darren_df['Total'].max(),\n",
        "    line=dict(\n",
        "        color=\"green\",\n",
        "        width=3,\n",
        "        dash=\"dashdot\"\n",
        "    )\n",
        ")\n",
        "chart.show()"
      ],
      "id": "Q1-chart",
      "execution_count": null,
      "outputs": []
    },
    {
      "cell_type": "markdown",
      "metadata": {},
      "source": [
        "## QUESTION|TASK 2\n",
        "\n",
        "__If you talked to someone named Brittany on the phone, what is your guess of his or her age? What ages would you not guess?__\n",
        "\n",
        "_I would guess they would be born between the years 1985 and 1996. Which would be between the ages of 27 and 38. The reason why I would choose this range of age is because the majority of people named brittany were born in these years. 241847 out of 327718 were born in these years. That is \n",
        "73.8% of people named Brittany in a 11 year period.I would not choose any date from 1968 - 1984 and 1997 and 2015 because that is only 26.2 % of people name Brittany were born in these years.  _\n"
      ],
      "id": "6a7187c4"
    },
    {
      "cell_type": "code",
      "metadata": {},
      "source": [
        "#| label: Q2\n",
        "#| code-summary: Read and format data\n",
        "# Include and execute your code here\n",
        "\n",
        "df.query(\"name == 'Brittany'\").filter([\"name\", \"year\",\n",
        " \"Total\"]).query(\"year > 1984 and year < 1997\")\n"
      ],
      "id": "Q2",
      "execution_count": null,
      "outputs": []
    },
    {
      "cell_type": "markdown",
      "metadata": {},
      "source": [
        "_This is isolating the years that hold  73.8% of people named Brittany_\n"
      ],
      "id": "04deb562"
    },
    {
      "cell_type": "code",
      "metadata": {},
      "source": [
        "#| label: Q2 chart\n",
        "#| code-summary: plot example\n",
        "#| fig-cap: My useless chart\n",
        "#| fig-align: center\n",
        "# Include and execute your code here\n",
        "filtered_df = df[df['name'] == 'Brittany']\n",
        "chart = px.bar(filtered_df.head(200),\n",
        "    x=\"year\", \n",
        "    y=\"Total\",\n",
        "    title = \"Brittany name usage over the years\"\n",
        ")\n",
        "chart.add_shape(\n",
        "    type=\"line\",\n",
        "    x0= 1985,\n",
        "    y0=14000,\n",
        "    x1=1996,\n",
        "    y1=14000,\n",
        "    line=dict(\n",
        "        color=\"red\",\n",
        "        width=3,\n",
        "        dash=\"dashdot\")\n",
        "        )\n",
        "chart.show()"
      ],
      "id": "Q2-chart",
      "execution_count": null,
      "outputs": []
    },
    {
      "cell_type": "code",
      "metadata": {},
      "source": [
        "#| label: Q2 table\n",
        "#| code-summary: table example\n",
        "#| tbl-cap: Not much of a table\n",
        "#| tbl-cap-location: top\n",
        "# Include and execute your code here\n",
        "mydat = filtered_df.head(1000)\\\n",
        "    .groupby('year')\\\n",
        "    .sum()\\\n",
        "    .reset_index()\\\n",
        "    .tail(10)\\\n",
        "    .filter([\"year\", \"AK\",\"AR\"])\n",
        "\n",
        "display(mydat)"
      ],
      "id": "Q2-table",
      "execution_count": null,
      "outputs": []
    },
    {
      "cell_type": "markdown",
      "metadata": {},
      "source": [
        "## QUESTION|TASK 3\n",
        "\n",
        "__Mary, Martha, Peter, and Paul are all Christian names. From 1920 - 2000, compare the name usage of each of the four names. What trends do you notice?__\n",
        "\n",
        "_These four names follow the same trend line in popularity over time. This may be due to cultural shifts in the popularity of christianity. Between 1947 and 1957 was the peak of usage of these names with an average usage of 201149 This drops relativly quickly over the years with an average percent decrese of 31.45% over 43 years.\n"
      ],
      "id": "f5d9d749"
    },
    {
      "cell_type": "code",
      "metadata": {},
      "source": [
        "#| label: Q3 chart\n",
        "#| code-summary: plot example\n",
        "#| fig-cap: My useless chart\n",
        "#| fig-align: center\n",
        "# Include and execute your code here\n",
        "desired_names = [\"Mary\", \"Martha\", \"Peter\", \"Paul\"]\n",
        "#List of names I want to see in chart\n",
        "#isin is boolean check. Is the four names in the column?\n",
        "# filter_df = df.name.isin(desired_names)\n",
        "# filter_df = df[df[\"name\"].isin(desired_names)]\n",
        "filter_df = df[df.name.isin(desired_names)].query(\"year > 1919 and year < 2001\")\n",
        "#takes filter and query filter_df variable and applies to the chart. \n",
        "chart = px.bar(filter_df,\n",
        "    x=\"year\", \n",
        "    y=\"Total\",\n",
        "    color = \"name\",\n",
        "    title = \"Comparison of Martha, Mary, Peter and Paul over the years\",\n",
        "    labels = {\"year\": \"Year\"}\n",
        ")\n",
        "chart.show()"
      ],
      "id": "Q3-chart",
      "execution_count": null,
      "outputs": []
    },
    {
      "cell_type": "code",
      "metadata": {},
      "source": [
        "#| label: Q3 table\n",
        "#| code-summary: table example\n",
        "#| tbl-cap: Not much of a table\n",
        "#| tbl-cap-location: top\n",
        "# Include and execute your code here\n",
        "\n",
        "# Taking instances of each record and adding them together.\n",
        "mydat = (df\n",
        "    [df.name.isin(desired_names)]\n",
        "    .query('year > 1947 and year < 1957')\n",
        "    .groupby('name')\n",
        "    .agg(total = ('Total', 'sum'))\n",
        "    .reset_index()\n",
        ")\n",
        "\n",
        "mydat.head(50)\n",
        "\n",
        "\n",
        "\n",
        "# mydat = filter_df.head(1000)\\\n",
        "#     .groupby('year')\\\n",
        "#     .sum()\\\n",
        "#     .reset_index()\\\n",
        "#     .tail(10)\\\n",
        "#     .filter([\"year\", \"AK\",\"AR\"])\n",
        "\n",
        "# display(mydat)"
      ],
      "id": "Q3-table",
      "execution_count": null,
      "outputs": []
    },
    {
      "cell_type": "markdown",
      "metadata": {},
      "source": [
        "## Question|Task 4\n",
        "\n",
        "__Think of a unique name from a famous movie. Plot the usage of that name and see how changes line up with the movie release. Does it look like the movie had an effect on usage?__\n",
        "\n",
        "_I chose the name Allison from Raiders of the Lost Ark. This movie released in 1981, The name began to gain popularity and over 4 years increase by 43.36%. The movie was the most popular movie of 1981 and so would potentially affect the usage of names over the next couple of years.  "
      ],
      "id": "c15633fa"
    },
    {
      "cell_type": "code",
      "metadata": {},
      "source": [
        "movie_df = df[df['name'] == 'Allison']\n",
        "chart = px.bar(movie_df.head(200),\n",
        "    x=\"year\", \n",
        "    y=\"Total\",\n",
        "    title = \"Allison name usage over the years\",\n",
        "    labels = {\"year\": \"Year\"}\n",
        ")\n",
        "chart.add_shape(\n",
        "    type=\"line\",\n",
        "    x0= 1981,\n",
        "    y0=4990,\n",
        "    x1=1984,\n",
        "    y1=7000,\n",
        "    line=dict(\n",
        "        color=\"red\",\n",
        "        width=3,\n",
        "        dash=\"dashdot\")\n",
        "        )\n",
        "chart.show()"
      ],
      "id": "5090cd8f",
      "execution_count": null,
      "outputs": []
    }
  ],
  "metadata": {
    "kernelspec": {
      "name": "python3",
      "language": "python",
      "display_name": "Python 3 (ipykernel)"
    }
  },
  "nbformat": 4,
  "nbformat_minor": 5
}