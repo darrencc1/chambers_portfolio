{
  "cells": [
    {
      "cell_type": "raw",
      "id": "5afce89f",
      "metadata": {},
      "source": [
        "---\n",
        "title: \"Client Report - [Airline Delays by Airport for the U.S]\"\n",
        "subtitle: \"Course DS 250\"\n",
        "author: \"[Darren Chambers]\"\n",
        "format:\n",
        "  html:\n",
        "    self-contained: true\n",
        "    page-layout: full\n",
        "    title-block-banner: true\n",
        "    toc: true\n",
        "    toc-depth: 3\n",
        "    toc-location: body\n",
        "    number-sections: false\n",
        "    html-math-method: katex\n",
        "    code-fold: true\n",
        "    code-summary: \"Show the code\"\n",
        "    code-overflow: wrap\n",
        "    code-copy: hover\n",
        "    code-tools:\n",
        "        source: false\n",
        "        toggle: true\n",
        "        caption: See code\n",
        "execute: \n",
        "  warning: false\n",
        "    \n",
        "---"
      ]
    },
    {
      "cell_type": "code",
      "execution_count": null,
      "id": "libraries",
      "metadata": {
        "vscode": {
          "languageId": "python"
        }
      },
      "outputs": [],
      "source": [
        "#| label: libraries\n",
        "#| include: false\n",
        "import pandas as pd\n",
        "import numpy as np\n",
        "import plotly.express as px"
      ]
    },
    {
      "cell_type": "markdown",
      "id": "18385875",
      "metadata": {},
      "source": [
        "## Elevator pitch\n",
        "\n",
        "_paste your elevator pitch here_\n",
        "_A SHORT (4-5 SENTENCES) PARAGRAPH THAT `DESCRIBES KEY INSIGHTS` TAKEN FROM METRICS IN THE PROJECT RESULTS THINK TOP OR MOST IMPORTANT RESULTS._\n"
      ]
    },
    {
      "cell_type": "code",
      "execution_count": null,
      "id": "project-data",
      "metadata": {
        "vscode": {
          "languageId": "python"
        }
      },
      "outputs": [],
      "source": [
        "#| label: project data\n",
        "#| code-summary: Read and format project data\n",
        "# Include and execute your code here\n",
        "df = pd.read_csv(\"https://raw.githubusercontent.com/byuidatascience/data4missing/master/data-raw/flights_missing/flights_missing.json\")\n",
        "flight_delays = df\n",
        "flight_delays\n",
        "print(flight_delays.columns)\n",
        "\n",
        "# replace 999 and -999 with the mean, 1500+ replace w/ 1500. \n",
        "# "
      ]
    },
    {
      "cell_type": "markdown",
      "id": "a7152e1b",
      "metadata": {},
      "source": [
        "__Highlight the Questions and Tasks__\n",
        "\n",
        "## QUESTION|TASK 1\n",
        "\n",
        "__Fix all of the varied missing data types in the data to be consistent (all missing values should be displayed as “NaN”)__\n",
        "\n",
        "_type your results and analysis here_"
      ]
    },
    {
      "cell_type": "code",
      "execution_count": null,
      "id": "0e7b604e",
      "metadata": {
        "vscode": {
          "languageId": "python"
        }
      },
      "outputs": [],
      "source": [
        "flight_delays = pd.json_normalize(flight_delays)\n",
        "\n",
        "# Now, you should have separate columns for each key in the JSON objects\n",
        "# You can check the column names again to verify2\n",
        "print(flight_delays.columns)"
      ]
    },
    {
      "cell_type": "code",
      "execution_count": null,
      "id": "74979d96",
      "metadata": {
        "vscode": {
          "languageId": "python"
        }
      },
      "outputs": [],
      "source": [
        "# %% assign function lets each of these columns get added to the data frame. \n",
        "# makes the new column = to another column in the df. (Like excel)\n",
        "# So minutes total delays will be another affed colimn at the end (severe)\n",
        "# lambda just returns whatever you do to x, it is an inline function. \n",
        "# weather = (flight_delays.assign(\n",
        "#     severe = flight_delays.num_of_delays_weather # no# missing, severe \n",
        "#     nodla_nona = lambda x: (x.num_of_delays_late_aircraft\n",
        "#         .replace(-999, np.nan)), #missing is -999, this is taking any missing data and replacing it with nan, copies the data but gives nan for 999\n",
        "#     mild_late = lambda x: x.nodla_nona.fillna(x.nodla_nona.mean())*0.3,\n",
        "#     mild = np.where(\n",
        "#         flight_delays.month.isin(['April', 'May', 'June', 'July', 'August']), \n",
        "#             flight_delays.num_of_delays_nas*0.4, \n",
        "#             flight_delays.num_of_delays_nas*0.65),\n",
        "#     weather = lambda x: x.severe + x.mild_late + x.mild,\n",
        "#     proportion_weather_delay = lambda x: x.weather / x.num_of_delays_total,\n",
        "#     proportion_weather_total = lambda x:  x.weather / x.num_of_flights_total)\n",
        "#     .filter(['airport_code','month','year', 'severe','mild', 'mild_late',\n",
        "#     'weather', 'proportion_weather_total', \n",
        "#     'proportion_weather_delay', 'num_of_flights_total', 'num_of_delays_total']))\n",
        "# weather.head()\n",
        "# weather = (flight_delays.assign(\n",
        "#     severe = flight_delays.num_of_delays_weather, # no# missing, severe \n",
        "#     nodla_nona = lambda x: (x.num_of_delays_late_aircraft\n",
        "#         .replace(-999, np.nan)), #missing is -999, this is taking any missing data and replacing it with nan, copies the data but gives nan for 999\n",
        "#     mild_late = lambda x: x.nodla_nona.fillna(x.nodla_nona.mean())*0.3,\n",
        "#     mild = np.where(\n",
        "#         flight_delays.month.isin(['April', 'May', 'June', 'July', 'August']), \n",
        "#             flight_delays.num_of_delays_nas*0.4, \n",
        "#             flight_delays.num_of_delays_nas*0.65),\n",
        "#     weather = lambda x: x.severe + x.mild_late + x.mild,\n",
        "#     proportion_weather_delay = lambda x: x.weather / x.num_of_delays_total,\n",
        "#     proportion_weather_total = lambda x:  x.weather / x.num_of_flights_total)\n",
        "#     .filter(['airport_code','month','year', 'severe','mild', 'mild_late',\n",
        "#     'weather', 'proportion_weather_total', \n",
        "#     'proportion_weather_delay', 'num_of_flights_total', 'num_of_delays_total']))\n",
        "# weather.head()\n"
      ]
    },
    {
      "cell_type": "markdown",
      "id": "9d08e114",
      "metadata": {},
      "source": [
        "```\n",
        "\n",
        "_include figures in chunks and discuss your findings in the figure._"
      ]
    },
    {
      "cell_type": "code",
      "execution_count": null,
      "id": "Q1-chart",
      "metadata": {
        "vscode": {
          "languageId": "python"
        }
      },
      "outputs": [],
      "source": [
        "#| label: Q1 chart\n",
        "#| code-summary: plot example\n",
        "#| fig-cap: My useless chart\n",
        "#| fig-align: center\n",
        "# Include and execute your code here\n",
        "chart = px.bar(df.head(200),\n",
        "    x=\"name\", \n",
        "    y=\"AK\"\n",
        ")\n",
        "chart.show()"
      ]
    },
    {
      "cell_type": "code",
      "execution_count": null,
      "id": "Q1-table",
      "metadata": {
        "vscode": {
          "languageId": "python"
        }
      },
      "outputs": [],
      "source": [
        "#| label: Q1 table\n",
        "#| code-summary: table example\n",
        "#| tbl-cap: Not much of a table\n",
        "#| tbl-cap-location: top\n",
        "# Include and execute your code here\n",
        "mydat = df.head(1000)\\\n",
        "    .groupby('year')\\\n",
        "    .sum()\\\n",
        "    .reset_index()\\\n",
        "    .tail(10)\\\n",
        "    .filter([\"year\", \"AK\",\"AR\"])\n",
        "\n",
        "display(mydat)"
      ]
    },
    {
      "cell_type": "markdown",
      "id": "8528f6e4",
      "metadata": {},
      "source": [
        "## QUESTION|TASK 2\n",
        "\n",
        "__Which airport has the worst delays?__\n",
        "\n",
        "_type your results and analysis here_\n"
      ]
    },
    {
      "cell_type": "code",
      "execution_count": null,
      "id": "Q2",
      "metadata": {
        "vscode": {
          "languageId": "python"
        }
      },
      "outputs": [],
      "source": [
        "#| label: Q2\n",
        "#| code-summary: Read and format data\n",
        "# Include and execute your code here"
      ]
    },
    {
      "cell_type": "markdown",
      "id": "48443033",
      "metadata": {},
      "source": [
        "```\n",
        "\n",
        "_include figures in chunks and discuss your findings in the figure._"
      ]
    },
    {
      "cell_type": "code",
      "execution_count": null,
      "id": "Q2-chart",
      "metadata": {
        "vscode": {
          "languageId": "python"
        }
      },
      "outputs": [],
      "source": [
        "#| label: Q2 chart\n",
        "#| code-summary: plot example\n",
        "#| fig-cap: My useless chart\n",
        "#| fig-align: center\n",
        "# Include and execute your code here\n",
        "chart = px.bar(df.head(200),\n",
        "    x=\"name\", \n",
        "    y=\"AK\"\n",
        ")\n",
        "chart.show()"
      ]
    },
    {
      "cell_type": "code",
      "execution_count": null,
      "id": "Q2-table",
      "metadata": {
        "vscode": {
          "languageId": "python"
        }
      },
      "outputs": [],
      "source": [
        "#| label: Q2 table\n",
        "#| code-summary: table example\n",
        "#| tbl-cap: Not much of a table\n",
        "#| tbl-cap-location: top\n",
        "# Include and execute your code here\n",
        "mydat = df.head(1000)\\\n",
        "    .groupby('year')\\\n",
        "    .sum()\\\n",
        "    .reset_index()\\\n",
        "    .tail(10)\\\n",
        "    .filter([\"year\", \"AK\",\"AR\"])\n",
        "\n",
        "display(mydat)"
      ]
    },
    {
      "cell_type": "markdown",
      "id": "389e5f51",
      "metadata": {},
      "source": [
        "## QUESTION|TASK 3\n",
        "\n",
        "__What is the best month to fly if you want to avoid delays of any length?__\n",
        "\n",
        "_type your results and analysis here_\n"
      ]
    },
    {
      "cell_type": "code",
      "execution_count": null,
      "id": "Q3",
      "metadata": {
        "vscode": {
          "languageId": "python"
        }
      },
      "outputs": [],
      "source": [
        "#| label: Q3\n",
        "#| code-summary: Read and format data\n",
        "# Include and execute your code here\n"
      ]
    },
    {
      "cell_type": "markdown",
      "id": "cce4cfe2",
      "metadata": {},
      "source": [
        "_include figures in chunks and discuss your findings in the figure._\n"
      ]
    },
    {
      "cell_type": "code",
      "execution_count": null,
      "id": "Q3-chart",
      "metadata": {
        "vscode": {
          "languageId": "python"
        }
      },
      "outputs": [],
      "source": [
        "#| label: Q3 chart\n",
        "#| code-summary: plot example\n",
        "#| fig-cap: My useless chart\n",
        "#| fig-align: center\n",
        "# Include and execute your code here\n",
        "chart = px.bar(df.head(200),\n",
        "    x=\"name\", \n",
        "    y=\"AK\"\n",
        ")\n",
        "chart.show()"
      ]
    },
    {
      "cell_type": "code",
      "execution_count": null,
      "id": "Q3-table",
      "metadata": {
        "vscode": {
          "languageId": "python"
        }
      },
      "outputs": [],
      "source": [
        "#| label: Q3 table\n",
        "#| code-summary: table example\n",
        "#| tbl-cap: Not much of a table\n",
        "#| tbl-cap-location: top\n",
        "# Include and execute your code here\n",
        "mydat = df.head(1000)\\\n",
        "    .groupby('year')\\\n",
        "    .sum()\\\n",
        "    .reset_index()\\\n",
        "    .tail(10)\\\n",
        "    .filter([\"year\", \"AK\",\"AR\"])\n",
        "\n",
        "display(mydat)"
      ]
    },
    {
      "cell_type": "markdown",
      "id": "61c02ecf",
      "metadata": {},
      "source": [
        "## __QUESTION|TASK 4__\n",
        "\n",
        "__Your job is to create a new column that calculates the total number of flights delayed by weather (both severe and mild).__\n",
        "\n",
        "## __QUESTION|TASK 5__\n",
        "\n",
        "__Using the new weather variable calculated above, create a barplot showing the proportion of all flights that are delayed by weather at each airport. Discuss what you learn from this graph.__"
      ]
    }
  ],
  "metadata": {
    "kernelspec": {
      "display_name": "Python 3 (ipykernel)",
      "language": "python",
      "name": "python3"
    }
  },
  "nbformat": 4,
  "nbformat_minor": 5
}
